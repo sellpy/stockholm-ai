{
 "cells": [
  {
   "cell_type": "code",
   "execution_count": null,
   "metadata": {
    "collapsed": false
   },
   "outputs": [],
   "source": [
    "import os\n",
    "import train_model\n",
    "from aws_helpers import create_repository, setup_elb, create_ecs_service, deregister_old_taskdefinitions\n",
    "from keras_to_tfserving import convert_keras_to_tf_model"
   ]
  },
  {
   "cell_type": "markdown",
   "metadata": {},
   "source": [
    "### Reqs.\n",
    "This code requires a couple of things:\n",
    "- Installed requirements\n",
    "- Docker (https://docs.docker.com/install/linux/docker-ce/ubuntu/)\n",
    "- installed & configured AWS CLI (https://aws.amazon.com/cli/)\n",
    "- AWS Elastic Load Balancer setup as an Application Load Balancer with a listener on 443\n",
    "- AWS Elastic Container Srevice cluster setup and configured"
   ]
  },
  {
   "cell_type": "code",
   "execution_count": null,
   "metadata": {
    "collapsed": true
   },
   "outputs": [],
   "source": [
    "version = 1\n",
    "service_path = 'services.dev.sellpy.net'\n",
    "service = \"stockholm-ai\"\n",
    "cluster = \"microservices\"\n",
    "env = \"dev\"\n",
    "load_balancer_name = \"sellpy-services\""
   ]
  },
  {
   "cell_type": "markdown",
   "metadata": {},
   "source": [
    "#### Train model & Convert model"
   ]
  },
  {
   "cell_type": "code",
   "execution_count": null,
   "metadata": {
    "collapsed": false
   },
   "outputs": [],
   "source": [
    "model_name = \"stockholm_ai_mnist.m\"\n",
    "!ls\n",
    "if model_name not in os.listdir(\".\"):\n",
    "    train_model.output_model(model_name, epochs=1)\n",
    "\n",
    "# note that the model path is referred to in server.conf\n",
    "# TODO: Make this repeatable in notebook\n",
    "convert_keras_to_tf_model(model_name=model_name,\n",
    "                          model_path=\"models/stockholm-ai\",\n",
    "                          sequential=True)"
   ]
  },
  {
   "cell_type": "markdown",
   "metadata": {},
   "source": [
    "#### Create a repository on ECR, build & push the image"
   ]
  },
  {
   "cell_type": "code",
   "execution_count": null,
   "metadata": {
    "collapsed": false,
    "scrolled": true
   },
   "outputs": [],
   "source": [
    "# Create an image repository for storing docker files.\n",
    "create_repository(service)\n",
    "\n",
    "!eval $( aws ecr get-login --no-include-email)\n",
    "!docker build -t temp_image .\n",
    "!docker tag temp_image 966836717103.dkr.ecr.eu-west-1.amazonaws.com/stockholm-ai:dev\n",
    "!docker push 966836717103.dkr.ecr.eu-west-1.amazonaws.com/stockholm-ai:dev\n"
   ]
  },
  {
   "cell_type": "markdown",
   "metadata": {},
   "source": [
    "#### Register a target & listener in the load balancer"
   ]
  },
  {
   "cell_type": "code",
   "execution_count": null,
   "metadata": {
    "collapsed": false,
    "scrolled": true
   },
   "outputs": [],
   "source": [
    "target_group_arn = setup_elb(\n",
    "    service=service,\n",
    "    version=version,\n",
    "    load_balancer_name=load_balancer_name,\n",
    "    service_path=service_path\n",
    ")"
   ]
  },
  {
   "cell_type": "markdown",
   "metadata": {},
   "source": [
    "#### Register a task definition and create an ECS service"
   ]
  },
  {
   "cell_type": "code",
   "execution_count": null,
   "metadata": {
    "collapsed": false
   },
   "outputs": [],
   "source": [
    "# Create / Update a task definition.\n",
    "!aws ecs register-task-definition --cli-input-json file://task_definition_2.json --region eu-west-1\n",
    "create_ecs_service(\n",
    "    cluster=cluster,\n",
    "    service=service,\n",
    "    task_definition_family=service,\n",
    "    target_group_arn=target_group_arn,\n",
    "    service_count=1\n",
    ")"
   ]
  },
  {
   "cell_type": "code",
   "execution_count": null,
   "metadata": {
    "collapsed": false
   },
   "outputs": [],
   "source": []
  },
  {
   "cell_type": "code",
   "execution_count": null,
   "metadata": {
    "collapsed": false
   },
   "outputs": [],
   "source": [
    "# Update existing services\n",
    "!aws ecs register-task-definition --cli-input-json file://task_definition_2.json --region eu-west-1\n",
    "!aws ecs update-service --service stockholm-ai --task-definition stockholm-ai --region eu-west-1  --cluster microservices\n",
    "deregister_old_taskdefinitions(service)"
   ]
  },
  {
   "cell_type": "code",
   "execution_count": null,
   "metadata": {
    "collapsed": true
   },
   "outputs": [],
   "source": []
  },
  {
   "cell_type": "code",
   "execution_count": null,
   "metadata": {
    "collapsed": false
   },
   "outputs": [],
   "source": []
  }
 ],
 "metadata": {
  "kernelspec": {
   "display_name": "Python 3",
   "language": "python",
   "name": "python3"
  },
  "language_info": {
   "codemirror_mode": {
    "name": "ipython",
    "version": 3
   },
   "file_extension": ".py",
   "mimetype": "text/x-python",
   "name": "python",
   "nbconvert_exporter": "python",
   "pygments_lexer": "ipython3",
   "version": "3.6.3"
  }
 },
 "nbformat": 4,
 "nbformat_minor": 2
}
